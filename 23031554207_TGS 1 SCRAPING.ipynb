{
 "cells": [
  {
   "cell_type": "code",
   "execution_count": 7,
   "metadata": {},
   "outputs": [],
   "source": [
    "import requests\n",
    "from bs4 import BeautifulSoup\n",
    "import pandas as pd"
   ]
  },
  {
   "cell_type": "code",
   "execution_count": 8,
   "metadata": {},
   "outputs": [],
   "source": [
    "# Fungsi untuk mengambil data dari satu halaman\n",
    "def scrape_page(page_url):\n",
    "    response = requests.get(page_url)\n",
    "    soup = BeautifulSoup(response.text, 'html.parser')\n",
    "\n",
    "    # Mengambil elemen jurnal dari halaman\n",
    "    titles = []\n",
    "    authors = []\n",
    "    indekses = []\n",
    "    \n",
    "    journal_entries = soup.find_all('div', class_='col-lg meta-side')\n",
    "\n",
    "    for journal in journal_entries:\n",
    "        # Mengambil Judul\n",
    "        title_element = journal.find('div', class_='affil-name mb-3').find('a')\n",
    "        titles.append(title_element.text.strip() if title_element else 'No Title')\n",
    "        \n",
    "        # Mengambil nama penulis\n",
    "        authors_element = journal.find('div', class_='affil-loc mt-2').find('a')\n",
    "        authors.append(authors_element.text.strip() if authors_element else 'No Authors')\n",
    "\n",
    "        # Mengambil Indeks\n",
    "        indeks_element = journal.find('span', class_='num-stat accredited')\n",
    "        if indeks_element:\n",
    "            indekses.append(indeks_element.text.strip().replace(\"==\", \"\").strip())  # Menghapus \"==\" dari nilai\n",
    "        else:\n",
    "            indekses.append('No Indeks')\n",
    "    \n",
    "    return titles, authors, indekses\n",
    "\n",
    "# Fungsi untuk melakukan scraping ke beberapa halaman\n",
    "def scrape_sinta_journals(base_url, total_pages):\n",
    "    all_titles = []\n",
    "    all_authors = []\n",
    "    all_indekses = []\n",
    "\n",
    "    for page in range(1, total_pages + 1):\n",
    "        page_url = f\"{base_url}?page={page}\"\n",
    "        titles, authors, indekses = scrape_page(page_url)\n",
    "        all_titles.extend(titles)\n",
    "        all_authors.extend(authors)\n",
    "        all_indekses.extend(indekses)\n",
    "\n",
    "    return all_titles, all_authors, all_indekses\n",
    "\n",
    "base_url = 'https://sinta.kemdikbud.go.id/journals/' \n",
    "total_pages = 2  # Jumlah halaman yang ingin di-scrape\n",
    "titles, authors, indekses = scrape_sinta_journals(base_url, total_pages)\n"
   ]
  },
  {
   "cell_type": "code",
   "execution_count": 9,
   "metadata": {},
   "outputs": [
    {
     "data": {
      "text/plain": [
       "(20, 20, 20)"
      ]
     },
     "execution_count": 9,
     "metadata": {},
     "output_type": "execute_result"
    }
   ],
   "source": [
    "len (titles), len(authors), len(indekses)"
   ]
  },
  {
   "cell_type": "code",
   "execution_count": 10,
   "metadata": {},
   "outputs": [
    {
     "data": {
      "text/html": [
       "<div>\n",
       "<style scoped>\n",
       "    .dataframe tbody tr th:only-of-type {\n",
       "        vertical-align: middle;\n",
       "    }\n",
       "\n",
       "    .dataframe tbody tr th {\n",
       "        vertical-align: top;\n",
       "    }\n",
       "\n",
       "    .dataframe thead th {\n",
       "        text-align: right;\n",
       "    }\n",
       "</style>\n",
       "<table border=\"1\" class=\"dataframe\">\n",
       "  <thead>\n",
       "    <tr style=\"text-align: right;\">\n",
       "      <th></th>\n",
       "      <th>Judul Journal</th>\n",
       "      <th>Authors</th>\n",
       "      <th>Indeks</th>\n",
       "    </tr>\n",
       "  </thead>\n",
       "  <tbody>\n",
       "    <tr>\n",
       "      <th>0</th>\n",
       "      <td>International Journal on Advanced Science, Eng...</td>\n",
       "      <td>Indonesian Society for Knowledge and Human Dev...</td>\n",
       "      <td>S1 Accredited</td>\n",
       "    </tr>\n",
       "    <tr>\n",
       "      <th>1</th>\n",
       "      <td>Ahkam: Jurnal Ilmu Syariah</td>\n",
       "      <td>Universitas Islam Negeri Syarif Hidayatullah J...</td>\n",
       "      <td>S1 Accredited</td>\n",
       "    </tr>\n",
       "    <tr>\n",
       "      <th>2</th>\n",
       "      <td>Indonesian Journal of Science and Technology</td>\n",
       "      <td>Universitas Pendidikan Indonesia</td>\n",
       "      <td>S1 Accredited</td>\n",
       "    </tr>\n",
       "    <tr>\n",
       "      <th>3</th>\n",
       "      <td>Asean Journal of Science and Engineering (AJSE)</td>\n",
       "      <td>Universitas Pendidikan Indonesia</td>\n",
       "      <td>S1 Accredited</td>\n",
       "    </tr>\n",
       "    <tr>\n",
       "      <th>4</th>\n",
       "      <td>Makara Journal of Science</td>\n",
       "      <td>Universitas Indonesia</td>\n",
       "      <td>S1 Accredited</td>\n",
       "    </tr>\n",
       "  </tbody>\n",
       "</table>\n",
       "</div>"
      ],
      "text/plain": [
       "                                       Judul Journal  \\\n",
       "0  International Journal on Advanced Science, Eng...   \n",
       "1                         Ahkam: Jurnal Ilmu Syariah   \n",
       "2       Indonesian Journal of Science and Technology   \n",
       "3    Asean Journal of Science and Engineering (AJSE)   \n",
       "4                          Makara Journal of Science   \n",
       "\n",
       "                                             Authors         Indeks  \n",
       "0  Indonesian Society for Knowledge and Human Dev...  S1 Accredited  \n",
       "1  Universitas Islam Negeri Syarif Hidayatullah J...  S1 Accredited  \n",
       "2                   Universitas Pendidikan Indonesia  S1 Accredited  \n",
       "3                   Universitas Pendidikan Indonesia  S1 Accredited  \n",
       "4                              Universitas Indonesia  S1 Accredited  "
      ]
     },
     "execution_count": 10,
     "metadata": {},
     "output_type": "execute_result"
    }
   ],
   "source": [
    "# Membuat DataFrame dari judul, penulis, dan indeks\n",
    "df = pd.DataFrame(\n",
    "    {\n",
    "        'Judul Journal': titles,\n",
    "        'Authors': authors, \n",
    "        'Indeks': indekses\n",
    "    }\n",
    ")\n",
    "df.head(5)"
   ]
  },
  {
   "cell_type": "code",
   "execution_count": 11,
   "metadata": {},
   "outputs": [
    {
     "name": "stdout",
     "output_type": "stream",
     "text": [
      "Data telah disimpan ke D:/TUGAS KAMPUS SEMESTER 3/PEMROSESAN TEKS/SCRAPING.csv\n"
     ]
    }
   ],
   "source": [
    "output_file = 'D:/TUGAS KAMPUS SEMESTER 3/PEMROSESAN TEKS/SCRAPING.csv'\n",
    "df.to_csv(output_file, index=False, encoding='utf-8-sig')  # Menggunakan encoding untuk mendukung karakter khusus\n",
    "print(f\"Data telah disimpan ke {output_file}\")"
   ]
  }
 ],
 "metadata": {
  "kernelspec": {
   "display_name": "Python 3",
   "language": "python",
   "name": "python3"
  },
  "language_info": {
   "codemirror_mode": {
    "name": "ipython",
    "version": 3
   },
   "file_extension": ".py",
   "mimetype": "text/x-python",
   "name": "python",
   "nbconvert_exporter": "python",
   "pygments_lexer": "ipython3",
   "version": "3.12.2"
  }
 },
 "nbformat": 4,
 "nbformat_minor": 2
}
